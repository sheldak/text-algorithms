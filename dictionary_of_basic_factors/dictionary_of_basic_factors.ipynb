{
 "cells": [
  {
   "cell_type": "code",
   "execution_count": 1,
   "metadata": {},
   "outputs": [],
   "source": [
    "import math\n",
    "from time import time\n",
    "from sys import getsizeof\n",
    "import os"
   ]
  },
  {
   "cell_type": "markdown",
   "metadata": {},
   "source": [
    "### Making dictionary of basic factors"
   ]
  },
  {
   "cell_type": "code",
   "execution_count": 2,
   "metadata": {},
   "outputs": [],
   "source": [
    "def sort_rename(sequence):\n",
    "    \"\"\" Makes Name list and Pos dictionary for given sequence.\n",
    "    \n",
    "    :arg\n",
    "        sequence: list of pairs or letters\n",
    "        \n",
    "    :returns\n",
    "        - Name for `sequence` as list\n",
    "        - Pos for `sequence` as dictionary\n",
    "    \"\"\"\n",
    "    \n",
    "    last_entry = None\n",
    "    index = 0\n",
    "    position_to_index = [None] * len(sequence)\n",
    "    first_entry = {}\n",
    "    for entry in sorted([(e, i) for i, e in enumerate(sequence)]):\n",
    "        if last_entry and last_entry[0] != entry[0]:\n",
    "            index += 1\n",
    "            first_entry[index] = entry[1]\n",
    "\n",
    "        position_to_index[entry[1]] = index\n",
    "        if last_entry is None:\n",
    "            first_entry[0] = entry[1]\n",
    "\n",
    "        last_entry = entry\n",
    "\n",
    "    return position_to_index, first_entry\n",
    "\n",
    "\n",
    "def kmr(text):\n",
    "    \"\"\" Karp-Miller-Rosenberg algorithm for making dictionary of basic factors\n",
    "    \n",
    "    :arg\n",
    "        text: string for which DBF is being made\n",
    "        \n",
    "    :returns\n",
    "        - dictionary of Name for every power of 2 less than length of `text`\n",
    "        - dictionary of Pos for every power of 2 less than length of `text`\n",
    "    \"\"\"\n",
    "    factor = math.floor(math.log2(len(text)))\n",
    "    padding_length = 2 ** (factor + 1) - 1\n",
    "    text += \"}\" * padding_length\n",
    "\n",
    "    position_to_index, first_entry = sort_rename(list(text))\n",
    "    names = {1: position_to_index}\n",
    "    entries = {1: first_entry}\n",
    "\n",
    "    for i in range(1, factor+1):\n",
    "        power = 2 ** (i - 1)\n",
    "        new_sequence = []\n",
    "        for j in range(len(text)):\n",
    "            if j+power < len(names[power]):\n",
    "                new_sequence.append((names[power][j], names[power][j+power]))\n",
    "\n",
    "        position_to_index, first_entry = sort_rename(new_sequence)\n",
    "        names[power * 2] = position_to_index\n",
    "        entries[power * 2] = first_entry\n",
    "\n",
    "    return names, entries"
   ]
  },
  {
   "cell_type": "markdown",
   "metadata": {},
   "source": [
    "### Finding patterns"
   ]
  },
  {
   "cell_type": "code",
   "execution_count": 3,
   "metadata": {},
   "outputs": [],
   "source": [
    "def bin_search(text, pattern, entries, k, letter_index, start, end, start_or_end):\n",
    "    \"\"\" Binary search returns first or last index of patterns starting with \n",
    "    `pattern[:(letter_index+1)]`\n",
    "    \n",
    "    :arg\n",
    "        text:         text in which pattern is searched\n",
    "        pattern:      pattern we are looking for\n",
    "        entries:      list of Pos lists - part of DBF for `text`\n",
    "        k:            power of 2 and length of part of `pattern` which is now considered\n",
    "        letter_index: index of letter in `pattern` which is now considered\n",
    "        start:        start index of `entries[k]`\n",
    "        end:          end index of `entries[k]`\n",
    "        start_or_end: whether binary search is looking for \"start\" or \"end\" index in \n",
    "                      `entries[k]` for `pattern[:(letter_index+1)]`\n",
    "        \n",
    "    :returns\n",
    "        start or end index of interval of `entries[k]` which is contating indices of first\n",
    "        occurrences of patterns starting with `pattern[:(letter_index+1)]`\n",
    "    \"\"\"\n",
    "    curr_start = start\n",
    "    curr_end = end\n",
    "\n",
    "    middle = (curr_start + curr_end) // 2\n",
    "\n",
    "    while curr_end - curr_start > 1:\n",
    "        index = entries[k][middle]\n",
    "        if (start_or_end == \"start\" and text[index + letter_index] >= pattern[letter_index] or\n",
    "                start_or_end == \"end\" and text[index + letter_index] > pattern[letter_index]):\n",
    "            curr_end = middle\n",
    "        else:\n",
    "            curr_start = middle\n",
    "\n",
    "        middle = (curr_start + curr_end) // 2\n",
    "\n",
    "    if start_or_end == \"start\":\n",
    "        if (entries[k][curr_start] + letter_index < len(text) and\n",
    "                text[entries[k][curr_start] + letter_index] == pattern[letter_index]):\n",
    "            return curr_start\n",
    "        return curr_end\n",
    "    else:\n",
    "        if (entries[k][curr_end] + letter_index < len(text) and\n",
    "                text[entries[k][curr_end] + letter_index] == pattern[letter_index]):\n",
    "            return curr_end\n",
    "        return curr_start\n",
    "\n",
    "\n",
    "def get_name(text, pattern, entries, k):\n",
    "    \"\"\" Finds number which corresponds to first `k` letters of `pattern`.\n",
    "    \n",
    "    :arg\n",
    "        text:    text in which the pattern will be searched\n",
    "        pattern: all the pattern; just first `k` letters are taken into consideration\n",
    "        entries: Pos lists in which there are indices of first occurrences of patterns\n",
    "                 (pattersn are in alphabetical order)\n",
    "        k:       power of 2 - number of first elements of `pattern` taken into consideration\n",
    "    \n",
    "    :returns\n",
    "        `start` such that `entries[k][start]` is an index of first occurrence of the pattern \n",
    "        we are looking for \n",
    "    \"\"\"\n",
    "    entries_len = len(entries[k])\n",
    "    curr_letter = 0\n",
    "\n",
    "    start = 0\n",
    "    end = entries_len - 1\n",
    "\n",
    "    while start != end:\n",
    "        start = bin_search(text, pattern, entries, k, curr_letter, start, end, \"start\")\n",
    "        end = bin_search(text, pattern, entries, k, curr_letter, start, end, \"end\")\n",
    "        curr_letter += 1\n",
    "\n",
    "    return start\n",
    "\n",
    "\n",
    "def get_text_from_file(file_path):\n",
    "    \"\"\" Reads text from file\n",
    "    \n",
    "    :arg\n",
    "        file_path: path of the file with text\n",
    "        \n",
    "    :returns\n",
    "        contents of the file\n",
    "    \"\"\"\n",
    "    with open(file_path, \"r\") as file:\n",
    "        text = file.read()\n",
    "        return text\n",
    "    \n",
    "\n",
    "def get_dbf(file_path):\n",
    "    \"\"\" Gets dictionary of basic factors for text in file\n",
    "    \n",
    "    :arg\n",
    "        file_path: path of the file with text\n",
    "        \n",
    "    :returns\n",
    "        - Name as list of lists\n",
    "        - Pos as list of lists\n",
    "        - text read from file\n",
    "    \"\"\"\n",
    "    text = get_text_from_file(file_path)\n",
    "    names, entries = kmr(text)\n",
    "\n",
    "    names = list(map(lambda item: item[1][:len(text)], names.items()))\n",
    "    entries = list(map(lambda item: [item[1][e] for e in range(len(item[1])-1)], entries.items()))\n",
    "\n",
    "    return names, entries, text\n",
    "\n",
    "\n",
    "def find_pattern(text, pattern, names, entries):\n",
    "    \"\"\" Finds all occurrences of pattern in text.\n",
    "    \n",
    "    :args\n",
    "        text:           string - the place where pattern will be searched\n",
    "        pattern:        pattern to match\n",
    "        names, entries: DBF, results from `get_dbf` function\n",
    "        \n",
    "    :returns\n",
    "        list of indices - starting points of all matchings\n",
    "    \"\"\"\n",
    "    k = math.floor(math.log2(len(pattern)))\n",
    "    \n",
    "    # in case length of the pattern is not equal to power of 2, two patterns of length 2^k are\n",
    "    # searched: one from the beginning of the pattern to index k-1 and second from index n-k\n",
    "    # (where n is a length of the pattern) to the end of the pattern\n",
    "    q = get_name(text, pattern, entries, k)\n",
    "\n",
    "    part_size = 2 ** k\n",
    "    if text[entries[k][q]:(entries[k][q]+part_size)] != pattern[:part_size]:\n",
    "        return []\n",
    "\n",
    "    # matchings with first part of the pattern\n",
    "    patterns_indices = []\n",
    "    for i in range(len(names[k])):\n",
    "        if names[k][i] == q:\n",
    "            patterns_indices.append(i)\n",
    "\n",
    "    # second part of the pattern\n",
    "    if len(pattern) != 2 ** k:\n",
    "        q = get_name(text, pattern[(len(pattern) - part_size):], entries, k)\n",
    "\n",
    "        if text[entries[k][q]:(entries[k][q] + part_size)] != pattern[(len(pattern) - part_size):]:\n",
    "            return []\n",
    "\n",
    "        right_patterns_indices = []\n",
    "\n",
    "        for i in patterns_indices:\n",
    "            if names[k][i + len(pattern) - part_size] == q:\n",
    "                right_patterns_indices.append(i)\n",
    "\n",
    "        return right_patterns_indices\n",
    "\n",
    "    return patterns_indices"
   ]
  },
  {
   "cell_type": "markdown",
   "metadata": {},
   "source": [
    "### McCreight algorithm"
   ]
  },
  {
   "cell_type": "code",
   "execution_count": 4,
   "metadata": {},
   "outputs": [],
   "source": [
    "class Tree:\n",
    "    \"\"\"Structure containing suffix tree\"\"\"\n",
    "    def __init__(self, word):\n",
    "        self._root = Node(None, \"\")\n",
    "        self._word = word\n",
    "\n",
    "    def split_edge(self, parent_node, top_interval):\n",
    "        # current edge\n",
    "        curr_edge = parent_node.children[self.word[top_interval[0]]]\n",
    "\n",
    "        # new node\n",
    "        new_node = Node(parent_node, self.word[top_interval[0]])\n",
    "\n",
    "        # edge from parent node to the new node\n",
    "        top_edge = Edge(top_interval, new_node)\n",
    "        parent_node.children[self.word[top_interval[0]]] = top_edge\n",
    "\n",
    "        # edge from new node to the child of parent node\n",
    "        bottom_interval = (top_interval[1] + 1, curr_edge.interval[1])\n",
    "        bottom_edge = Edge(bottom_interval, curr_edge.node)\n",
    "        new_node.add_child(self.word[top_interval[1] + 1], bottom_edge)\n",
    "        curr_edge.node.parent = new_node\n",
    "        curr_edge.node.parent_first_letter = self.word[top_interval[1] + 1]\n",
    "\n",
    "    def find(self, word):\n",
    "        curr_letter = 0\n",
    "        curr_node = self.root\n",
    "        while curr_letter < len(word):\n",
    "            # checking if common part of word to find and text represented by the tree ended in the current node\n",
    "            if word[curr_letter] not in curr_node.children:\n",
    "                return False\n",
    "\n",
    "            # looking for edge which is going out from current node\n",
    "            curr_edge = curr_node.children[word[curr_letter]]\n",
    "            interval = curr_edge.interval\n",
    "\n",
    "            # checking current edge\n",
    "            word_letter = interval[0]\n",
    "            while word_letter <= interval[1]:\n",
    "                if curr_letter == len(word):\n",
    "                    return True\n",
    "\n",
    "                if self.word[word_letter] != word[curr_letter]:\n",
    "                    return False\n",
    "\n",
    "                curr_letter += 1\n",
    "                word_letter += 1\n",
    "\n",
    "            curr_node = curr_edge.node\n",
    "\n",
    "        return True\n",
    "\n",
    "    @property\n",
    "    def root(self):\n",
    "        return self._root\n",
    "\n",
    "    @property\n",
    "    def word(self):\n",
    "        return self._word\n",
    "\n",
    "\n",
    "class Node:\n",
    "    def __init__(self, parent, parent_first_letter):\n",
    "        self._parent = parent\n",
    "        self._parent_first_letter = parent_first_letter\n",
    "        self._children = {}\n",
    "\n",
    "        self._link = None\n",
    "\n",
    "    def add_child(self, letter, edge):\n",
    "        self._children[letter] = edge\n",
    "\n",
    "    def print(self):\n",
    "        print(self._children)\n",
    "        for child in self._children.values():\n",
    "            print(child.interval)\n",
    "            child.node.print()\n",
    "\n",
    "    @property\n",
    "    def children(self):\n",
    "        return self._children\n",
    "\n",
    "    @property\n",
    "    def parent(self):\n",
    "        return self._parent\n",
    "\n",
    "    @property\n",
    "    def parent_first_letter(self):\n",
    "        return self._parent_first_letter\n",
    "\n",
    "    @property\n",
    "    def link(self):\n",
    "        return self._link\n",
    "\n",
    "    @parent.setter\n",
    "    def parent(self, parent):\n",
    "        self._parent = parent\n",
    "\n",
    "    @parent_first_letter.setter\n",
    "    def parent_first_letter(self, parent_first_letter):\n",
    "        self._parent_first_letter = parent_first_letter\n",
    "\n",
    "    @link.setter\n",
    "    def link(self, link):\n",
    "        self._link = link\n",
    "\n",
    "\n",
    "class Edge:\n",
    "    def __init__(self, interval, node):\n",
    "        self._interval = interval\n",
    "        self._node = node\n",
    "\n",
    "    @property\n",
    "    def interval(self):\n",
    "        return self._interval\n",
    "\n",
    "    @property\n",
    "    def node(self):\n",
    "        return self._node\n",
    "\n",
    "\n",
    "def split_edge(parent_node, top_interval, word):\n",
    "    # current edge\n",
    "    curr_edge = parent_node.children[word[top_interval[0]]]\n",
    "\n",
    "    # new node\n",
    "    new_node = Node(parent_node, word[top_interval[0]])\n",
    "\n",
    "    # edge from parent node to the new node\n",
    "    top_edge = Edge(top_interval, new_node)\n",
    "    parent_node.children[word[top_interval[0]]] = top_edge\n",
    "\n",
    "    # edge from new node to the child of parent node\n",
    "    bottom_interval = (top_interval[1] + 1, curr_edge.interval[1])\n",
    "    bottom_edge = Edge(bottom_interval, curr_edge.node)\n",
    "    new_node.add_child(word[top_interval[1] + 1], bottom_edge)\n",
    "    curr_edge.node.parent = new_node\n",
    "    curr_edge.node.parent_first_letter = word[top_interval[1] + 1]\n",
    "\n",
    "\n",
    "def graft(node, interval, first_letter):\n",
    "    new_node = Node(node, first_letter)\n",
    "    new_edge = Edge(interval, new_node)\n",
    "    node.add_child(first_letter, new_edge)\n",
    "\n",
    "    return new_node\n",
    "\n",
    "\n",
    "def label_size(label):\n",
    "    return label[1] - label[0] + 1\n",
    "\n",
    "\n",
    "def fast_find(node, label, word):\n",
    "    curr_node = node\n",
    "    curr_label = label\n",
    "\n",
    "    child_edge = curr_node.children[word[curr_label[0]]]\n",
    "    while label_size(curr_label) > label_size(child_edge.interval):\n",
    "        curr_node = child_edge.node\n",
    "        curr_label = (curr_label[0] + label_size(child_edge.interval), curr_label[1])\n",
    "\n",
    "        child_edge = curr_node.children[word[curr_label[0]]]\n",
    "\n",
    "    if label_size(curr_label) == label_size(child_edge.interval):\n",
    "        return child_edge.node\n",
    "    else:\n",
    "        new_node_top_label = (child_edge.interval[0], child_edge.interval[0] + label_size(curr_label) - 1)\n",
    "        split_edge(curr_node, new_node_top_label, word)\n",
    "\n",
    "        curr_node = curr_node.children[word[curr_label[0]]].node\n",
    "\n",
    "        return curr_node\n",
    "\n",
    "\n",
    "def slow_find(node, label, word):\n",
    "    curr_node = node\n",
    "    curr_label_letter = label[0]\n",
    "\n",
    "    if not word[curr_label_letter] in curr_node.children:\n",
    "        return curr_node, label\n",
    "\n",
    "    child_edge = curr_node.children[word[curr_label_letter]]\n",
    "    curr_edge_letter = child_edge.interval[0]\n",
    "\n",
    "    while word[curr_label_letter] == word[curr_edge_letter]:\n",
    "        if curr_edge_letter == child_edge.interval[1]:\n",
    "            curr_node = child_edge.node\n",
    "            curr_label_letter += 1\n",
    "            if not word[curr_label_letter] in curr_node.children:\n",
    "                return curr_node, (curr_label_letter, label[1])\n",
    "\n",
    "            child_edge = curr_node.children[word[curr_label_letter]]\n",
    "            curr_edge_letter = child_edge.interval[0]\n",
    "        else:\n",
    "            curr_label_letter += 1\n",
    "            curr_edge_letter += 1\n",
    "\n",
    "    new_node_top_interval = (child_edge.interval[0], curr_edge_letter - 1)\n",
    "    split_edge(curr_node, new_node_top_interval, word)\n",
    "\n",
    "    left_label = (curr_label_letter, label[1])\n",
    "    return curr_node.children[word[child_edge.interval[0]]].node, left_label\n",
    "\n",
    "\n",
    "def mccreight(word):\n",
    "    tree = Tree(word)\n",
    "    head = tree.root\n",
    "    node = tree.root\n",
    "    leaf = graft(node, (0, len(word)-1), word[0])\n",
    "\n",
    "    for i in range(1, len(word)):\n",
    "        left_label = (i, len(word)-1)\n",
    "        if head == tree.root:\n",
    "            node = tree.root\n",
    "        else:\n",
    "            to_head_label = head.parent.children[head.parent_first_letter].interval\n",
    "\n",
    "            if head.parent == tree.root:\n",
    "                to_head_label = (to_head_label[0] + 1, to_head_label[1])\n",
    "\n",
    "                node = tree.root\n",
    "            else:\n",
    "                node = head.parent.link\n",
    "\n",
    "            if to_head_label[1] >= to_head_label[0]:\n",
    "                node = fast_find(node, to_head_label, word)\n",
    "            left_label = (leaf.parent.children[leaf.parent_first_letter].interval[0], left_label[1])\n",
    "\n",
    "        last_head = head\n",
    "        head, left_label = slow_find(node, left_label, word)\n",
    "        last_head.link = node\n",
    "        leaf = graft(head, left_label, word[left_label[0]])\n",
    "\n",
    "    return tree"
   ]
  },
  {
   "cell_type": "markdown",
   "metadata": {},
   "source": [
    "### Knuth-Morris-Pratt algorithm"
   ]
  },
  {
   "cell_type": "code",
   "execution_count": 5,
   "metadata": {},
   "outputs": [],
   "source": [
    "def prefix_function(pattern):\n",
    "    pi = []\n",
    "    pi.append(-1)\n",
    "    k = -1\n",
    "    for q in range(1, len(pattern)):\n",
    "        while k >= 0 and pattern[k+1] != pattern[q]:\n",
    "            k = pi[k]\n",
    "\n",
    "        if pattern[k+1] == pattern[q]:\n",
    "            k += 1\n",
    "\n",
    "        pi.append(k)\n",
    "\n",
    "    return pi\n",
    "\n",
    "\n",
    "def kmp_matching(text, pattern, pi):\n",
    "    pattern_shifts = []\n",
    "\n",
    "    q = -1\n",
    "    for i in range(len(text)):\n",
    "        while q >= 0 and pattern[q+1] != text[i]:\n",
    "            q = pi[q]\n",
    "\n",
    "        if pattern[q+1] == text[i]:\n",
    "            q += 1\n",
    "\n",
    "        if q == len(pattern) - 1:\n",
    "            pattern_shifts.append(i-q)\n",
    "            q = pi[q]\n",
    "\n",
    "    return pattern_shifts"
   ]
  },
  {
   "cell_type": "markdown",
   "metadata": {},
   "source": [
    "### Tests - time of building structure"
   ]
  },
  {
   "cell_type": "code",
   "execution_count": 6,
   "metadata": {},
   "outputs": [],
   "source": [
    "def print_time(function, to_print, get_result=False, *args):\n",
    "    \"\"\" Prints time of `function` running.\n",
    "    \n",
    "    :arg\n",
    "        function:   function which will be called\n",
    "        to_print:   what should be printed before the time\n",
    "        get_result: if the function should return result of `function`\n",
    "        *args:      arguments of `function`\n",
    "        \n",
    "    :returns\n",
    "        if `get_result` is True, then it returns result of `function`\n",
    "    \"\"\"\n",
    "    start_time = time()\n",
    "    result = function(*args)\n",
    "    print(f\"{to_print} {time() - start_time}s\")\n",
    "\n",
    "    if get_result:\n",
    "        return result"
   ]
  },
  {
   "cell_type": "markdown",
   "metadata": {},
   "source": [
    "#### Building structure for \"1997_714.txt\""
   ]
  },
  {
   "cell_type": "code",
   "execution_count": 7,
   "metadata": {},
   "outputs": [
    {
     "name": "stdout",
     "output_type": "stream",
     "text": [
      "dbf:          20.506614685058594s\n",
      "suffix tree:  8.136092901229858s\n"
     ]
    }
   ],
   "source": [
    "dbf_act = print_time(get_dbf, \"dbf:         \", True, \"1997_714.txt\")\n",
    "print_time(mccreight, \"suffix tree: \", False, get_text_from_file(\"1997_714.txt\") + \"$\")"
   ]
  },
  {
   "cell_type": "markdown",
   "metadata": {},
   "source": [
    "#### Building structure for \"romeo-i-julia-700.txt\""
   ]
  },
  {
   "cell_type": "code",
   "execution_count": 8,
   "metadata": {},
   "outputs": [
    {
     "name": "stdout",
     "output_type": "stream",
     "text": [
      "dbf:          0.4453434944152832s\n",
      "suffix tree:  0.11213827133178711s\n"
     ]
    }
   ],
   "source": [
    "dbf_drama = print_time(get_dbf, \"dbf:         \", True, \"romeo-i-julia-700.txt\")\n",
    "print_time(mccreight, \"suffix tree: \", False, get_text_from_file(\"romeo-i-julia-700.txt\") + \"$\")"
   ]
  },
  {
   "cell_type": "markdown",
   "metadata": {},
   "source": [
    "#### Building structure for \"zad6\""
   ]
  },
  {
   "cell_type": "code",
   "execution_count": 9,
   "metadata": {},
   "outputs": [
    {
     "name": "stdout",
     "output_type": "stream",
     "text": [
      "dbf:          0.023640155792236328s\n",
      "suffix tree:  0.007577657699584961s\n"
     ]
    }
   ],
   "source": [
    "dbf_zad = print_time(get_dbf, \"dbf:         \", True, \"zad6\")\n",
    "print_time(mccreight, \"suffix tree: \", False, get_text_from_file(\"zad6\") + \"$\")"
   ]
  },
  {
   "cell_type": "markdown",
   "metadata": {},
   "source": [
    "### Tests - size of the structure"
   ]
  },
  {
   "cell_type": "code",
   "execution_count": 10,
   "metadata": {},
   "outputs": [],
   "source": [
    "def get_size(structure):\n",
    "    \"\"\" Returns size of the structure \n",
    "    \n",
    "    :arg\n",
    "        structure: size of that will be calculated; in case it is a type of list, tuple or \n",
    "                   string (with size grater than 1), then function will be called for every \n",
    "                   element in the collection\n",
    "                   \n",
    "    :returns\n",
    "        size in bytes\n",
    "    \"\"\"\n",
    "    size = getsizeof(structure)\n",
    "    if type(structure) in (list, tuple, str) and not (type(structure) == str and len(structure) <= 1):\n",
    "        for substructure in structure:\n",
    "            size += get_size(substructure)\n",
    "    \n",
    "    return size"
   ]
  },
  {
   "cell_type": "markdown",
   "metadata": {},
   "source": [
    "#### Size of  \"1997_714.txt\""
   ]
  },
  {
   "cell_type": "code",
   "execution_count": 11,
   "metadata": {},
   "outputs": [
    {
     "name": "stdout",
     "output_type": "stream",
     "text": [
      "size of the file:      254133 bytes\n",
      "size of the structure: 296008464 bytes\n"
     ]
    }
   ],
   "source": [
    "print(f\"size of the file:      {os.stat('1997_714.txt').st_size} bytes\")\n",
    "print(f\"size of the structure: {get_size(dbf_act)} bytes\")"
   ]
  },
  {
   "cell_type": "markdown",
   "metadata": {},
   "source": [
    "#### Size of \"romeo-i-julia-700.txt\""
   ]
  },
  {
   "cell_type": "code",
   "execution_count": 12,
   "metadata": {},
   "outputs": [
    {
     "name": "stdout",
     "output_type": "stream",
     "text": [
      "size of the file:      14208 bytes\n",
      "size of the structure: 12378848 bytes\n"
     ]
    }
   ],
   "source": [
    "print(f\"size of the file:      {os.stat('romeo-i-julia-700.txt').st_size} bytes\")\n",
    "print(f\"size of the structure: {get_size(dbf_drama)} bytes\")"
   ]
  },
  {
   "cell_type": "markdown",
   "metadata": {},
   "source": [
    "#### Size of \"zad6\""
   ]
  },
  {
   "cell_type": "code",
   "execution_count": 13,
   "metadata": {},
   "outputs": [
    {
     "name": "stdout",
     "output_type": "stream",
     "text": [
      "size of the file:      947 bytes\n",
      "size of the structure: 645858 bytes\n"
     ]
    }
   ],
   "source": [
    "print(f\"size of the file:      {os.stat('zad6').st_size} bytes\")\n",
    "print(f\"size of the structure: {get_size(dbf_zad)} bytes\")"
   ]
  },
  {
   "cell_type": "markdown",
   "metadata": {},
   "source": [
    "### Search in  \"1997_714.txt\""
   ]
  },
  {
   "cell_type": "code",
   "execution_count": 14,
   "metadata": {},
   "outputs": [
    {
     "name": "stdout",
     "output_type": "stream",
     "text": [
      "dbf:  0.025287151336669922s\n",
      "kmp:  0.05326581001281738s\n",
      "Number of matchings found by dbf: 8433\n",
      "Number of matchings found by kmp: 8433\n"
     ]
    }
   ],
   "source": [
    "pattern = \"e\"\n",
    "\n",
    "pattern_indices_dbf = print_time(find_pattern, \"dbf: \", True, dbf_act[2], pattern, dbf_act[0], dbf_act[1])\n",
    "pattern_indices_kmp = print_time(kmp_matching, \"kmp: \", True, dbf_act[2], pattern, prefix_function(pattern))\n",
    "\n",
    "print(f\"Number of matchings found by dbf: {len(pattern_indices_dbf)}\")\n",
    "print(f\"Number of matchings found by kmp: {len(pattern_indices_kmp)}\")"
   ]
  },
  {
   "cell_type": "code",
   "execution_count": 15,
   "metadata": {},
   "outputs": [
    {
     "name": "stdout",
     "output_type": "stream",
     "text": [
      "dbf:  0.02244734764099121s\n",
      "kmp:  0.053707122802734375s\n",
      "Number of matchings found by dbf: 32\n",
      "Number of matchings found by kmp: 32\n"
     ]
    }
   ],
   "source": [
    "pattern = \"ustawy\"\n",
    "\n",
    "pattern_indices_dbf = print_time(find_pattern, \"dbf: \", True, dbf_act[2], pattern, dbf_act[0], dbf_act[1])\n",
    "pattern_indices_kmp = print_time(kmp_matching, \"kmp: \", True, dbf_act[2], pattern, prefix_function(pattern))\n",
    "\n",
    "print(f\"Number of matchings found by dbf: {len(pattern_indices_dbf)}\")\n",
    "print(f\"Number of matchings found by kmp: {len(pattern_indices_kmp)}\")"
   ]
  },
  {
   "cell_type": "code",
   "execution_count": 16,
   "metadata": {},
   "outputs": [
    {
     "name": "stdout",
     "output_type": "stream",
     "text": [
      "dbf:  0.02670764923095703s\n",
      "kmp:  0.05548977851867676s\n",
      "Number of matchings found by dbf: 1\n",
      "Number of matchings found by kmp: 1\n"
     ]
    }
   ],
   "source": [
    "pattern = \"\"\"Zrzeczenia, o którym mowa w ust. 1, podatnik dokonuje przez złożenie\n",
    "  urzędowi skarbowemu właściwemu według miejsca zamieszkania podatnika\n",
    "  pisemnego oświadczenia.\"\"\"\n",
    "\n",
    "pattern_indices_dbf = print_time(find_pattern, \"dbf: \", True, dbf_act[2], pattern, dbf_act[0], dbf_act[1])\n",
    "pattern_indices_kmp = print_time(kmp_matching, \"kmp: \", True, dbf_act[2], pattern, prefix_function(pattern))\n",
    "\n",
    "print(f\"Number of matchings found by dbf: {len(pattern_indices_dbf)}\")\n",
    "print(f\"Number of matchings found by kmp: {len(pattern_indices_kmp)}\")"
   ]
  },
  {
   "cell_type": "markdown",
   "metadata": {},
   "source": [
    "### Search in  \"romeo-i-julia-700.txt\""
   ]
  },
  {
   "cell_type": "code",
   "execution_count": 17,
   "metadata": {},
   "outputs": [
    {
     "name": "stdout",
     "output_type": "stream",
     "text": [
      "dbf:  0.0011348724365234375s\n",
      "kmp:  0.0027408599853515625s\n",
      "Number of matchings found by dbf: 644\n",
      "Number of matchings found by kmp: 644\n"
     ]
    }
   ],
   "source": [
    "pattern = \"a\"\n",
    "\n",
    "pattern_indices_dbf = print_time(find_pattern, \"dbf: \", True, dbf_drama[2], pattern, dbf_drama[0], dbf_drama[1])\n",
    "pattern_indices_kmp = print_time(kmp_matching, \"kmp: \", True, dbf_drama[2], pattern, prefix_function(pattern))\n",
    "\n",
    "print(f\"Number of matchings found by dbf: {len(pattern_indices_dbf)}\")\n",
    "print(f\"Number of matchings found by kmp: {len(pattern_indices_kmp)}\")"
   ]
  },
  {
   "cell_type": "code",
   "execution_count": 18,
   "metadata": {},
   "outputs": [
    {
     "name": "stdout",
     "output_type": "stream",
     "text": [
      "dbf:  0.0013964176177978516s\n",
      "kmp:  0.003291606903076172s\n",
      "Number of matchings found by dbf: 16\n",
      "Number of matchings found by kmp: 16\n"
     ]
    }
   ],
   "source": [
    "pattern = \"ROMEO\"\n",
    "\n",
    "pattern_indices_dbf = print_time(find_pattern, \"dbf: \", True, dbf_drama[2], pattern, dbf_drama[0], dbf_drama[1])\n",
    "pattern_indices_kmp = print_time(kmp_matching, \"kmp: \", True, dbf_drama[2], pattern, prefix_function(pattern))\n",
    "\n",
    "print(f\"Number of matchings found by dbf: {len(pattern_indices_dbf)}\")\n",
    "print(f\"Number of matchings found by kmp: {len(pattern_indices_kmp)}\")"
   ]
  },
  {
   "cell_type": "code",
   "execution_count": 19,
   "metadata": {},
   "outputs": [
    {
     "name": "stdout",
     "output_type": "stream",
     "text": [
      "dbf:  0.0016846656799316406s\n",
      "kmp:  0.0030107498168945312s\n",
      "Number of matchings found by dbf: 1\n",
      "Number of matchings found by kmp: 1\n"
     ]
    }
   ],
   "source": [
    "pattern = \"\"\"Gdybyśmy mogli dojść tych trosk zarodka,\n",
    "Nie zbrakłoby nam zaradczego środka.\"\"\"\n",
    "\n",
    "pattern_indices_dbf = print_time(find_pattern, \"dbf: \", True, dbf_drama[2], pattern, dbf_drama[0], dbf_drama[1])\n",
    "pattern_indices_kmp = print_time(kmp_matching, \"kmp: \", True, dbf_drama[2], pattern, prefix_function(pattern))\n",
    "\n",
    "print(f\"Number of matchings found by dbf: {len(pattern_indices_dbf)}\")\n",
    "print(f\"Number of matchings found by kmp: {len(pattern_indices_kmp)}\")"
   ]
  },
  {
   "cell_type": "markdown",
   "metadata": {},
   "source": [
    "### Search in  \"zad6\""
   ]
  },
  {
   "cell_type": "code",
   "execution_count": 20,
   "metadata": {},
   "outputs": [
    {
     "name": "stdout",
     "output_type": "stream",
     "text": [
      "dbf:  9.846687316894531e-05s\n",
      "kmp:  0.00020742416381835938s\n",
      "Number of matchings found by dbf: 22\n",
      "Number of matchings found by kmp: 22\n"
     ]
    }
   ],
   "source": [
    "pattern = \"p\"\n",
    "\n",
    "pattern_indices_dbf = print_time(find_pattern, \"dbf: \", True, dbf_zad[2], pattern, dbf_zad[0], dbf_zad[1])\n",
    "pattern_indices_kmp = print_time(kmp_matching, \"kmp: \", True, dbf_zad[2], pattern, prefix_function(pattern))\n",
    "\n",
    "print(f\"Number of matchings found by dbf: {len(pattern_indices_dbf)}\")\n",
    "print(f\"Number of matchings found by kmp: {len(pattern_indices_kmp)}\")"
   ]
  },
  {
   "cell_type": "code",
   "execution_count": 21,
   "metadata": {},
   "outputs": [
    {
     "name": "stdout",
     "output_type": "stream",
     "text": [
      "dbf:  0.0002655982971191406s\n",
      "kmp:  0.0004124641418457031s\n",
      "Number of matchings found by dbf: 2\n",
      "Number of matchings found by kmp: 2\n"
     ]
    }
   ],
   "source": [
    "pattern = \"Zaimplementować\"\n",
    "\n",
    "pattern_indices_dbf = print_time(find_pattern, \"dbf: \", True, dbf_zad[2], pattern, dbf_zad[0], dbf_zad[1])\n",
    "pattern_indices_kmp = print_time(kmp_matching, \"kmp: \", True, dbf_zad[2], pattern, prefix_function(pattern))\n",
    "\n",
    "print(f\"Number of matchings found by dbf: {len(pattern_indices_dbf)}\")\n",
    "print(f\"Number of matchings found by kmp: {len(pattern_indices_kmp)}\")"
   ]
  },
  {
   "cell_type": "code",
   "execution_count": 22,
   "metadata": {},
   "outputs": [
    {
     "name": "stdout",
     "output_type": "stream",
     "text": [
      "dbf:  0.00014257431030273438s\n",
      "kmp:  0.0002079010009765625s\n",
      "Number of matchings found by dbf: 1\n",
      "Number of matchings found by kmp: 1\n"
     ]
    }
   ],
   "source": [
    "pattern = (\"Porównać czas wyszukiwania wzorca przy użyciu DBF z wyszukiwaniem \" + \n",
    "          \"za pomocą KMP dla różnych długości wzorca.\")\n",
    "\n",
    "pattern_indices_dbf = print_time(find_pattern, \"dbf: \", True, dbf_zad[2], pattern, dbf_zad[0], dbf_zad[1])\n",
    "pattern_indices_kmp = print_time(kmp_matching, \"kmp: \", True, dbf_zad[2], pattern, prefix_function(pattern))\n",
    "\n",
    "print(f\"Number of matchings found by dbf: {len(pattern_indices_dbf)}\")\n",
    "print(f\"Number of matchings found by kmp: {len(pattern_indices_kmp)}\")"
   ]
  }
 ],
 "metadata": {
  "kernelspec": {
   "display_name": "Python 3",
   "language": "python",
   "name": "python3"
  },
  "language_info": {
   "codemirror_mode": {
    "name": "ipython",
    "version": 3
   },
   "file_extension": ".py",
   "mimetype": "text/x-python",
   "name": "python",
   "nbconvert_exporter": "python",
   "pygments_lexer": "ipython3",
   "version": "3.7.6"
  }
 },
 "nbformat": 4,
 "nbformat_minor": 4
}
