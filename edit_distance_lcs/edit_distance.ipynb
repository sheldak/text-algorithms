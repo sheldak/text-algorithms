{
 "cells": [
  {
   "cell_type": "markdown",
   "metadata": {},
   "source": [
    "### Imports"
   ]
  },
  {
   "cell_type": "code",
   "execution_count": 17,
   "metadata": {},
   "outputs": [],
   "source": [
    "import numpy as np\n",
    "from bisect import bisect\n",
    "from unidecode import unidecode\n",
    "from spacy.tokenizer import Tokenizer\n",
    "from spacy.lang.pl import Polish\n",
    "import random"
   ]
  },
  {
   "cell_type": "markdown",
   "metadata": {},
   "source": [
    "### Edit distance"
   ]
  },
  {
   "cell_type": "code",
   "execution_count": 18,
   "metadata": {},
   "outputs": [],
   "source": [
    "def delta_standard(a, b):\n",
    "    \"\"\" Function calculating distance between two letters, tokens, lines, ...\n",
    "\n",
    "    :arg\n",
    "        a,b: letters, token, lines, ... between which there will be calculated edit distance\n",
    "\n",
    "    :returns\n",
    "        if the arguments are the same: 0; otherwise 1\n",
    "    \"\"\"\n",
    "\n",
    "    if a == b:\n",
    "        return 0\n",
    "    else:\n",
    "        return 1\n",
    "    \n",
    "\n",
    "def delta_unidecode(a, b):\n",
    "    \"\"\" Function calculating distance between two letters, tokens, lines, ... \n",
    "            but with special case for polish characters\n",
    "\n",
    "    :arg\n",
    "        a,b: letters, token, lines, ... between which there will be calculated edit distance\n",
    "\n",
    "    :returns\n",
    "        if the arguments are the same: 0; if not but converted to ASCII are the same, then 0.5; \n",
    "        otherwise 0\n",
    "    \"\"\"\n",
    "\n",
    "    if a == b:\n",
    "        return 0\n",
    "    elif unidecode(a) == unidecode(b):\n",
    "        return 0.5\n",
    "    else:\n",
    "        return 1\n",
    "\n",
    "\n",
    "def get_changes_sequence(parent):\n",
    "    \"\"\" Getting sequence of steps to make to change one chain to another\n",
    "\n",
    "     :arg\n",
    "        parent: 2d array where every cell has tuple containing position of element from which it is the best\n",
    "            (considering distance) to move to that cell\n",
    "\n",
    "    :returns\n",
    "        list of steps (tuples) to make to get the best (in distance) change from one chain to another\n",
    "     \"\"\"\n",
    "\n",
    "    x, y = len(parent)-1, len(parent[0])-1\n",
    "    sequence = [(x, y)]\n",
    "\n",
    "    while (x, y) != (0, 0):\n",
    "        x, y = parent[x][y]\n",
    "        sequence.append((x, y))\n",
    "\n",
    "    sequence.reverse()\n",
    "\n",
    "    return sequence\n",
    "\n",
    "\n",
    "def edit_distance(x, y, delta=delta_standard, get_distance=True):\n",
    "    \"\"\" Calculating edit distance\n",
    "\n",
    "    :arg\n",
    "        x, y:         chains between which edit distance is calculated\n",
    "        delta:        function used to get edit distance between two subchains (for example letters)\n",
    "        get_distance: whether function is returning edit distance and parent array or just parent array\n",
    "\n",
    "    :returns\n",
    "        edit distance and parent 2d array if get_distance == True; just parent 2d array otherwise\n",
    "    \"\"\"\n",
    "\n",
    "    # initializing table by filling first row and column\n",
    "    edit_table = np.empty((len(x) + 1, len(y) + 1))\n",
    "    for i in range(len(x) + 1):\n",
    "        edit_table[i, 0] = i\n",
    "    for j in range(len(y) + 1):\n",
    "        edit_table[0, j] = j\n",
    "\n",
    "    # filling all the 2d array\n",
    "    parent = [[(0, 0) for _ in range(len(y)+1)] for _ in range(len(x)+1)]\n",
    "    for i in range(1, len(x) + 1):\n",
    "        for j in range(1, len(y) + 1):\n",
    "            # getting minimal edit distance to get to this position in array and position itself\n",
    "            minimum, position = min((edit_table[i-1, j] + 1, (i-1, j)),\n",
    "                                    (edit_table[i, j-1] + 1, (i, j-1)),\n",
    "                                    (edit_table[i-1, j-1] + delta(x[i-1], y[j-1]), (i-1, j-1)))\n",
    "            edit_table[i, j] = minimum\n",
    "            parent[i][j] = position\n",
    "\n",
    "    # return depends on get_table variable\n",
    "    if get_distance:\n",
    "        return edit_table[len(x), len(y)], parent\n",
    "    else:\n",
    "        return parent\n",
    "\n",
    "\n",
    "def visualize(x, y, delta=delta_standard):\n",
    "    \"\"\" Visualizing changing one chain to another\n",
    "\n",
    "        Args:\n",
    "            x, y:  we are visualizing changing chain x to chain y\n",
    "            delta: function used to get edit distance between two subchains (for example letters)\n",
    "    \"\"\"\n",
    "\n",
    "    # getting edit distance and sequence of changes needed to make to get second chain from the first one\n",
    "    distance, parent = edit_distance(x, y, delta)\n",
    "    sequence = get_changes_sequence(parent)\n",
    "\n",
    "    # printing header\n",
    "    print(f\"Edit distance: {distance}\")\n",
    "\n",
    "    curr_word = x\n",
    "    curr_letter = 0\n",
    "    print(x)\n",
    "\n",
    "    # visualizing change by making steps specified in sequence\n",
    "    for i in range(1, len(sequence)):\n",
    "        # considering last two elements in sequence\n",
    "        row, col = sequence[i]\n",
    "        last_row, last_col = sequence[i-1]\n",
    "\n",
    "        # part of chain which will be printed in all cases\n",
    "        to_print = curr_word[:curr_letter] + \"*\"\n",
    "\n",
    "        # step made diagonally\n",
    "        if row - last_row + col - last_col == 2:\n",
    "            if curr_word[curr_letter] != y[last_col]:\n",
    "                print(f\"{to_print}{y[last_col]}*{curr_word[(curr_letter+1):]}  \"\n",
    "                      f\"| changed {curr_word[curr_letter]}->{y[last_col]}\")\n",
    "\n",
    "            curr_word = curr_word[:curr_letter] + y[last_col] + curr_word[(curr_letter+1):]\n",
    "            curr_letter += 1\n",
    "        # step made vertically\n",
    "        elif row - last_row == 1:\n",
    "            print(f\"{to_print}*{curr_word[(curr_letter+1):]}  | removed {curr_word[curr_letter]}\")\n",
    "            curr_word = curr_word[:curr_letter] + curr_word[(curr_letter + 1):]\n",
    "        # step made horizontally\n",
    "        else:\n",
    "            print(f\"{to_print}{y[last_col]}*{curr_word[curr_letter:]}  | added {y[last_col]}\")\n",
    "\n",
    "            curr_word = curr_word[:curr_letter] + y[last_col] + curr_word[curr_letter:]\n",
    "            curr_letter += 1\n",
    "    print()"
   ]
  },
  {
   "cell_type": "markdown",
   "metadata": {},
   "source": [
    "### Longest common subsequence"
   ]
  },
  {
   "cell_type": "code",
   "execution_count": 19,
   "metadata": {},
   "outputs": [],
   "source": [
    "def delete_part_of_tokens(destination_path):\n",
    "    \"\"\" Deleting 3% of tokens from romeo-and-juliet.txt and saving result to another file\n",
    "\n",
    "        :arg\n",
    "            destination_path: file to which result of the removal will be saved\n",
    "    \n",
    "        :returns\n",
    "            97% of tokens as list of strings\n",
    "    \"\"\"\n",
    "\n",
    "    # preparing tokenizer\n",
    "    nlp = Polish()\n",
    "    tokenizer = Tokenizer(nlp.vocab)\n",
    "\n",
    "    # opening source file\n",
    "    with open(\"romeo-and-juliet.txt\", \"r\") as file:\n",
    "        # tokenizing text\n",
    "        text = file.read()\n",
    "        tokens = tokenizer(text)\n",
    "\n",
    "        # new text saved as string, tokens will be returned as list of strings\n",
    "        new_text = \"\"\n",
    "        new_tokens = []\n",
    "\n",
    "        # getting random 3% indices of all tokens\n",
    "        to_delete = set(random.sample(range(len(tokens)), 3 * len(tokens) // 100))\n",
    "\n",
    "        # it is necessary to avoid deleting newline characters so in that case next possible token is deleted\n",
    "        debt = 0\n",
    "\n",
    "        # writing 97% of tokens to new_text\n",
    "        for i in range(len(tokens)):\n",
    "            if (i not in to_delete and debt == 0) or tokens[i].text[0] == \"\\n\":\n",
    "                new_text += tokens[i].text_with_ws\n",
    "                new_tokens.append(tokens[i].text)\n",
    "\n",
    "                if i in to_delete:\n",
    "                    debt += 1\n",
    "            elif i not in to_delete:\n",
    "                debt -= 1\n",
    "\n",
    "        # saving new text to the file\n",
    "        with open(destination_path, \"w\") as dest_file:\n",
    "            dest_file.write(new_text)\n",
    "        \n",
    "        return new_tokens\n",
    "\n",
    "\n",
    "def get_file_lines(file_path):\n",
    "    with open(file_path, \"r\") as file:\n",
    "        text = file.read()\n",
    "        lines = text.split(\"\\n\")\n",
    "        return lines\n",
    "\n",
    "\n",
    "def lcs(x, y):\n",
    "    \"\"\" Getting the length of the longest common subsequence in two chains\n",
    "\n",
    "        :arg\n",
    "            x, y: chains which length of longest common subsequence will be calculated\n",
    "\n",
    "        :returns\n",
    "            length of longest common subsequence in x and y\n",
    "    \"\"\"\n",
    "\n",
    "    ranges = [len(y)]\n",
    "    y_letters = list(y)\n",
    "\n",
    "    # for every letter in first chain\n",
    "    for i in range(len(x)):\n",
    "        positions = [index for index, letter in enumerate(y_letters) if letter == x[i]]\n",
    "        positions.reverse()\n",
    "\n",
    "        for p in positions:\n",
    "            k = bisect(ranges, p)\n",
    "            if k == bisect(ranges, p-1):\n",
    "                if k < len(ranges) - 1:\n",
    "                    ranges[k] = p\n",
    "                else:\n",
    "                    ranges[k:k] = [p]\n",
    "\n",
    "    return len(ranges) - 1\n",
    "\n",
    "\n",
    "def diff(x, y):\n",
    "    \"\"\" Function which is similar to system command \"diff\" (printing result)\n",
    "\n",
    "        :arg\n",
    "            x, y: like system's \"diff x y\"\n",
    "    \"\"\"\n",
    "\n",
    "    # getting edit distance table and parent array and extracting sequence\n",
    "    parent = edit_distance(x, y, get_distance=False)\n",
    "    sequence = get_changes_sequence(parent)\n",
    "\n",
    "    # all elements of chain before index \"last_element\" of \"sequence\" were printed or were ok\n",
    "    last_element = 0\n",
    "\n",
    "    # for every element in the sequence\n",
    "    for i in range(1, len(sequence)):\n",
    "        row, col = sequence[i]\n",
    "        last_row, last_col = sequence[i-1]\n",
    "\n",
    "        # printing all different elements of chains between \"last_element\" and current index\n",
    "        if row - last_row + col - last_col == 2 and x[last_row] == y[last_col]:\n",
    "            for x_element in range(sequence[last_element][0], sequence[i-1][0]):\n",
    "                print(f\"< ({x_element})  {x[x_element]}\")\n",
    "            for y_element in range(sequence[last_element][1], sequence[i-1][1]):\n",
    "                print(f\"> ({y_element})  {y[y_element]}\")\n",
    "\n",
    "            last_element = i\n",
    "\n",
    "    # last elements\n",
    "    for x_element in range(sequence[last_element][0], sequence[len(sequence)-1][0]):\n",
    "        print(f\"< ({x_element})  {x[x_element]}\")\n",
    "    for y_element in range(sequence[last_element][1], sequence[len(sequence)-1][1]):\n",
    "        print(f\"> ({y_element})  {y[y_element]}\")"
   ]
  },
  {
   "cell_type": "markdown",
   "metadata": {},
   "source": [
    "### Tests - edit distance"
   ]
  },
  {
   "cell_type": "code",
   "execution_count": 20,
   "metadata": {},
   "outputs": [
    {
     "name": "stdout",
     "output_type": "stream",
     "text": [
      "Edit distance: 2.0\n",
      "los\n",
      "*k*los  | added k\n",
      "klo*c*  | changed s->c\n",
      "\n"
     ]
    }
   ],
   "source": [
    "visualize(\"los\", \"kloc\")"
   ]
  },
  {
   "cell_type": "code",
   "execution_count": 21,
   "metadata": {},
   "outputs": [
    {
     "name": "stdout",
     "output_type": "stream",
     "text": [
      "Edit distance: 3.0\n",
      "Łódź\n",
      "*L*ódź  | changed Ł->L\n",
      "L*o*dź  | changed ó->o\n",
      "Lod*z*  | changed ź->z\n",
      "\n"
     ]
    }
   ],
   "source": [
    "visualize(\"Łódź\", \"Lodz\")"
   ]
  },
  {
   "cell_type": "code",
   "execution_count": 22,
   "metadata": {},
   "outputs": [
    {
     "name": "stdout",
     "output_type": "stream",
     "text": [
      "Edit distance: 1.5\n",
      "Łódź\n",
      "*L*ódź  | changed Ł->L\n",
      "L*o*dź  | changed ó->o\n",
      "Lod*z*  | changed ź->z\n",
      "\n"
     ]
    }
   ],
   "source": [
    "visualize(\"Łódź\", \"Lodz\", delta_unidecode)"
   ]
  },
  {
   "cell_type": "code",
   "execution_count": 23,
   "metadata": {},
   "outputs": [
    {
     "name": "stdout",
     "output_type": "stream",
     "text": [
      "Edit distance: 5.0\n",
      "kwintesencja\n",
      "*q*wintesencja  | changed k->q\n",
      "q*u*intesencja  | changed w->u\n",
      "quinte*s*sencja  | added s\n",
      "quintessenc**a  | removed j\n",
      "quintessenc*e*  | changed a->e\n",
      "\n"
     ]
    }
   ],
   "source": [
    "visualize(\"kwintesencja\", \"quintessence\")"
   ]
  },
  {
   "cell_type": "code",
   "execution_count": 24,
   "metadata": {},
   "outputs": [
    {
     "name": "stdout",
     "output_type": "stream",
     "text": [
      "Edit distance: 7.0\n",
      "ATGAATCTTACCGCCTCG\n",
      "ATGA*G*TCTTACCGCCTCG  | changed A->G\n",
      "ATGAG*G*CTTACCGCCTCG  | changed T->G\n",
      "ATGAGGCT*C*TACCGCCTCG  | added C\n",
      "ATGAGGCTCT*G*CCGCCTCG  | changed A->G\n",
      "ATGAGGCTCTG*G*CGCCTCG  | changed C->G\n",
      "ATGAGGCTCTGGC*C*CCTCG  | changed G->C\n",
      "ATGAGGCTCTGGCCCCT**G  | removed C\n",
      "\n"
     ]
    }
   ],
   "source": [
    "visualize(\"ATGAATCTTACCGCCTCG\", \"ATGAGGCTCTGGCCCCTG\")"
   ]
  },
  {
   "cell_type": "markdown",
   "metadata": {},
   "source": [
    "### Tests - longest common subsequence"
   ]
  },
  {
   "cell_type": "code",
   "execution_count": 25,
   "metadata": {},
   "outputs": [
    {
     "data": {
      "text/plain": [
       "2"
      ]
     },
     "execution_count": 25,
     "metadata": {},
     "output_type": "execute_result"
    }
   ],
   "source": [
    "lcs(\"los\", \"kloc\")"
   ]
  },
  {
   "cell_type": "code",
   "execution_count": 26,
   "metadata": {},
   "outputs": [
    {
     "data": {
      "text/plain": [
       "1"
      ]
     },
     "execution_count": 26,
     "metadata": {},
     "output_type": "execute_result"
    }
   ],
   "source": [
    "lcs(\"Łódź\", \"Lodz\")"
   ]
  },
  {
   "cell_type": "code",
   "execution_count": 27,
   "metadata": {},
   "outputs": [
    {
     "data": {
      "text/plain": [
       "8"
      ]
     },
     "execution_count": 27,
     "metadata": {},
     "output_type": "execute_result"
    }
   ],
   "source": [
    "lcs(\"kwintesencja\", \"quintessence\")"
   ]
  },
  {
   "cell_type": "code",
   "execution_count": 28,
   "metadata": {},
   "outputs": [
    {
     "data": {
      "text/plain": [
       "13"
      ]
     },
     "execution_count": 28,
     "metadata": {},
     "output_type": "execute_result"
    }
   ],
   "source": [
    "lcs(\"ATGAATCTTACCGCCTCG\", \"ATGAGGCTCTGGCCCCTG\")"
   ]
  },
  {
   "cell_type": "markdown",
   "metadata": {},
   "source": [
    "### Tokenization, deleting 3% of tokens and saving result to file"
   ]
  },
  {
   "cell_type": "code",
   "execution_count": 29,
   "metadata": {},
   "outputs": [],
   "source": [
    "tokens2 = delete_part_of_tokens(\"romeo-and-juliet2.txt\")\n",
    "tokens3 = delete_part_of_tokens(\"romeo-and-juliet3.txt\")"
   ]
  },
  {
   "cell_type": "markdown",
   "metadata": {},
   "source": [
    "### Longest common subsequence for these texts"
   ]
  },
  {
   "cell_type": "code",
   "execution_count": 30,
   "metadata": {},
   "outputs": [
    {
     "name": "stdout",
     "output_type": "stream",
     "text": [
      "lcs: 2141\n",
      "rate: 97.14%\n"
     ]
    }
   ],
   "source": [
    "length_of_lcs = lcs(tokens2, tokens3)\n",
    "rate = 100 * length_of_lcs / len(tokens2)\n",
    "\n",
    "print(\"lcs: \" + str(length_of_lcs))\n",
    "print(\"rate: {0:.2f}%\".format(rate))"
   ]
  },
  {
   "cell_type": "markdown",
   "metadata": {},
   "source": [
    "### diff romeo-and-juliet2.txt romeo-and-juliet3.txt"
   ]
  },
  {
   "cell_type": "code",
   "execution_count": 31,
   "metadata": {
    "scrolled": false
   },
   "outputs": [
    {
     "name": "stdout",
     "output_type": "stream",
     "text": [
      "< (2)  i Julia\n",
      "> (2)  Romeo i Julia\n",
      "< (5)  ISBN 978-83-288-2903-9\n",
      "> (5)  978-83-288-2903-9\n",
      "< (9)  \n",
      "> (9)  OSOBY:\n",
      "< (12)   * KAPULET — naczelnicy dwóch domów nieprzyjaznych sobie\n",
      "> (12)   * MONTEKI, KAPULET — naczelnicy dwóch nieprzyjaznych sobie\n",
      "< (14)   * ROMEO — syn Montekiego\n",
      "< (15)   * MERKUCJO — krewny księcia\n",
      "> (14)   * — syn Montekiego\n",
      "> (15)   * MERKUCJO krewny \n",
      "< (17)   * TYBALT — krewny Pani \n",
      "> (17)   * TYBALT — krewny Pani Kapulet\n",
      "< (19)   * JAN — brat tegoż zgromadzenia\n",
      "> (19)   * JAN — brat z tegoż zgromadzenia\n",
      "< (25)   * PAŹ \n",
      "> (25)   * PAŹ PARYSA\n",
      "< (28)   * PANI MONTEKI — małżonka Montekiego\n",
      "> (28)   PANI MONTEKI — małżonka Montekiego\n",
      "< (30)   * JULIA — Kapuletów\n",
      "> (30)   * JULIA — córka Kapuletów\n",
      "< (32)   * Obywatele weroneńscy, różne osoby płci obojej, liczący się do przyjaciół obu domów, maski, straż wojskowa i inne osoby.\n",
      "> (32)   * Obywatele różne osoby płci obojej, liczący się do przyjaciół obu domów, maski, straż wojskowa i inne osoby.\n",
      "< (45)  Dwa rody, zacne i sławne —\n",
      "> (45)  Dwa rody, zacne jednako sławne —\n",
      "< (50)  łon tych dwu wrogów wzięło bowiem życie,\n",
      "< (51)  najstraszliwszą z gwiazd, kochanków dwoje;\n",
      "> (50)  Z łon tych dwu wrogów wzięło bowiem życie,\n",
      "> (51)  Pod najstraszliwszą z gwiazd, kochanków dwoje;\n",
      "< (53)  Śmierć ich stłumiła rodzicielskie boje.\n",
      "> (53)  Śmierć stłumiła rodzicielskie boje.\n",
      "< (60)  Które otoczcie cierpliwymi względy,\n",
      "> (60)  Które otoczcie względy,\n",
      "< (72)  / Plac publiczny. Wchodzą Samson i Grzegorz uzbrojeni w tarcze miecze. /\n",
      "> (72)  / Plac publiczny. Wchodzą Samson i Grzegorz uzbrojeni w tarcze i miecze. /\n",
      "< (82)  Ma się rozumieć, bobyśmy byli zdziercami.\n",
      "> (82)  Ma się rozumieć, bobyśmy byli \n",
      "< (92)  Kto zechce zadrzeć z nami, będzie musiał zadrżeć.\n",
      "> (92)  Kto zechce zadrzeć z będzie musiał zadrżeć.\n",
      "< (97)  Mam zwyczaj drapać zaraz, jak mię kto rozrucha.\n",
      "> (97)  Mam zwyczaj drapać zaraz, jak mię kto \n",
      "< (107)  Te psy z Montekich rozruchać mię mogą bardzo łatwo.\n",
      "> (107)  Te psy z domu Montekich rozruchać mię mogą bardzo łatwo.\n",
      "< (112)  Rozruchać się tyle znaczy co ruszyć się miejsca; być walecznym jest to stać nieporuszenie: pojmuję więc, że skutkiem rozruchania się twego będzie - drapnięcie.\n",
      "> (112)  Rozruchać się tyle znaczy co ruszyć się miejsca; być walecznym jest to stać nieporuszenie: pojmuję więc, że skutkiem rozruchania się twego będzie - \n",
      "< (117)  Te psy z domu Montekich rozruchać mię mogą tylko do stania na miejscu. Będę jak mur dla każdego mężczyzny i każdej kobiety z tego domu.\n",
      "> (117)  Te psy z domu Montekich rozruchać mię mogą tylko do stania na miejscu. Będę jak mur każdego mężczyzny i każdej kobiety z tego domu.\n",
      "< (122)  To właśnie pokazuje twoją słabą stronę; mur dla nikogo niestraszny i tylko słabi się trzymają.\n",
      "> (122)  To właśnie pokazuje twoją słabą stronę; mur dla niestraszny i tylko słabi go się trzymają.\n",
      "< (125)  \n",
      "> (125)  SAMSON\n",
      "< (137)  Mniejsza mi o to, będę nieubłagany. Pobiwszy ludzi, wywrę wściekłość na kobietach: rzeź między nimi sprawię.\n",
      "> (137)  Mniejsza mi o to, będę nieubłagany. Pobiwszy ludzi, wywrę wściekłość kobietach: rzeź między nimi sprawię.\n",
      "< (152)  Tym lepiej, że się liczysz do zwierząt; bo gdybyś się liczył do ryb, to byłbyś pewnie Weź no się za instrument, oto nadchodzi dwóch domowników Montekiego.\n",
      "> (152)  lepiej, że się liczysz do bo gdybyś się liczył do ryb, to byłbyś pewnie sztokfiszem. Weź no się za instrument, bo oto nadchodzi dwóch domowników Montekiego.\n",
      "< (184)  Marsa im nastawię przechodząc; niech go sobie, jak chcą, tłumaczą.\n",
      "> (184)  Marsa im nastawię niech go sobie, jak chcą, tłumaczą.\n",
      "< (189)  Nie jak chcą, ale jak śmią. Ja im gębę wykrzywię; im, jeśli to ścierpią.\n",
      "> (189)  Nie jak chcą, ale jak śmią. Ja im gębę wykrzywię; hańba im, jeśli to ścierpią.\n",
      "< (192)  ABRAHAM\n",
      "> (192)  \n",
      "< (194)  Skrzywiłeś się na nas, mości panie?\n",
      "> (194)  się na nas, mości panie?\n",
      "< (231)  \n",
      "> (231)  ABRAHAM\n",
      "< (246)  \n",
      "> (246)  SAMSON\n",
      "< (262)  Nie inaczej; \n",
      "> (262)  Nie inaczej; lepszy.\n",
      "< (290)  \n",
      "> (290)  BENWOLIO\n",
      "< (293)  wraz ze rozdziel nim tych ludzi.\n",
      "> (293)  Albo wraz ze mną rozdziel nim tych ludzi.\n",
      "< (303)  / Walczą. Nadchodzi kilku przyjaciół obu partii i mieszają do zwady; wkrótce potem wchodzą mieszczanie z pałkami. /\n",
      "> (303)  / Walczą. Nadchodzi kilku przyjaciół obu partii i mieszają się do zwady; wkrótce potem wchodzą mieszczanie z pałkami. /\n",
      "< (309)  Precz z Montekimi, precz z Kapuletami!\n",
      "> (309)  Precz Montekimi, precz z Kapuletami!\n",
      "< (311)  / Wchodzą Kapulet i Pani Kapulet /\n",
      "> (311)  / Kapulet i Pani Kapulet /\n",
      "< (322)  Raczej kulę; co ci z miecza?\n",
      "> (322)  Raczej kulę; ci z miecza?\n",
      "< (330)  / Wchodzą Monteki i Pani Monteki. \n",
      "> (330)  / Wchodzą Monteki i Pani Monteki. /\n",
      "< (344)  Nie puszczę cię na krok, gdy wróg przed tobą.\n",
      "> (344)  Nie na krok, gdy wróg przed tobą.\n",
      "< (351)  Zapamiętali niesforni poddani,\n",
      "> (351)  Zapamiętali poddani,\n",
      "< (354)  Co wściekłych gniewów żar gasicie\n",
      "> (354)  wściekłych swoich gniewów żar gasicie\n",
      "< (360)  Domowe z marnych słów \n",
      "> (360)  Domowe starcia, z marnych słów zrodzone\n",
      "< (362)  Trzykroć już spokój miasta zakłóciły,\n",
      "< (363)  Tak że poważni wiekiem i zasługą\n",
      "> (362)  Trzykroć już miasta zakłóciły,\n",
      "> (363)  Tak poważni wiekiem i zasługą\n",
      "< (370)  Zamęt pokoju opłacicie życiem.\n",
      "> (370)  Zamęt opłacicie życiem.\n",
      "< (372)  Ty, Kapulecie, pójdziesz mną razem;\n",
      "> (372)  Ty, Kapulecie, pójdziesz ze mną razem;\n",
      "< (374)  Na ratusz, gdzie ci dokładnie w tym względzie\n",
      "> (374)  ratusz, gdzie ci dokładnie w tym względzie\n",
      "< (379)  / Książę z orszakiem wychodzi. Podobnież Kapulet, Pani Kapulet, Tybalt, obywatele i słudzy. /\n",
      "> (379)  Książę orszakiem wychodzi. Podobnież Kapulet, Pani Kapulet, Tybalt, obywatele i słudzy. /\n",
      "< (391)  wasi już się bili, kiedym nadszedł;\n",
      "< (392)  Dobyłem aby ich rozdzielić:\n",
      "< (393)  Wtem szalony Tybalt z gołym mieczem,\n",
      "> (391)  I wasi już się bili, kiedym nadszedł;\n",
      "> (392)  Dobyłem broni, aby ich rozdzielić:\n",
      "> (393)  Wtem wpadł szalony Tybalt z gołym mieczem,\n",
      "< (395)  Jął się wywijać nim i siec powietrze,\n",
      "< (396)  Które tylko szydząc z marnych\n",
      "< (397)  Jego zamachów. Gdyśmy tak ze sobą\n",
      "> (395)  się wywijać nim i siec powietrze,\n",
      "> (396)  Które świszczało tylko szydząc z marnych\n",
      "> (397)  Jego zamachów. tak sobą\n",
      "< (403)  MONTEKI\n",
      "> (403)  PANI MONTEKI\n",
      "< (405)  Lecz gdzież Romeo? Widział żeś dzisiaj?\n",
      "< (406)  Jakże się cieszę, że nie był w tym starciu.\n",
      "> (405)  gdzież Romeo? Widział żeś go dzisiaj?\n",
      "> (406)  Jakże się cieszę, że nie był tym starciu.\n",
      "< (416)  Tam, już tak syn wasz się przechadzał.\n",
      "> (416)  Tam, już tak rano, syn wasz się przechadzał.\n",
      "< (419)  I w najciemniejszej ukrył gęstwinie.\n",
      "< (420)  Pociąg ten jego do odosobnienia\n",
      "< (421)  mym własnym (serce nasze bowiem\n",
      "> (419)  I w najciemniejszej ukrył się gęstwinie.\n",
      "> (420)  ten jego do odosobnienia\n",
      "> (421)  Mierząc mym własnym (serce nasze bowiem\n",
      "< (423)  Nie przeszkadzałem w jego dumaniach\n",
      "> (423)  Nie przeszkadzałem mu w jego dumaniach\n",
      "< (425)  Stroniąc od tego, co rad mnie unikał.\n",
      "> (425)  Stroniąc od tego, co mnie unikał.\n",
      "< (433)  Aliści ledwo na najdalszym wschodzie\n",
      "> (433)  Aliści ledwo na wschodzie\n",
      "< (435)  Zaczęło ściągać cienistą kotarę,\n",
      "> (435)  Zaczęło ściągać kotarę,\n",
      "< (437)  Co tchu się w swoim pokoju;\n",
      "> (437)  Co tchu zamykał się w swoim pokoju;\n",
      "< (439)  sztuczną sobie ciemnicę utwarzał.\n",
      "< (440)  W czarne bezdroża dusza jego zajdzie,\n",
      "< (441)  się na to lekarstwo nie \n",
      "> (439)  I sztuczną sobie ciemnicę utwarzał.\n",
      "> (440)  W czarne bezdroża dusza zajdzie,\n",
      "> (441)  Jeśli się na to lekarstwo nie znajdzie.\n",
      "< (451)  Nie znam i z niego wydobyć nie mogę.\n",
      "> (451)  Nie znam i z wydobyć nie mogę.\n",
      "< (463)  im jest wierny, tak zamknięty w sobie,\n",
      "< (464)  Od otwartości wszelkiej tak daleki\n",
      "> (463)  Tak im jest wierny, zamknięty w sobie,\n",
      "> (464)  Od otwartości wszelkiej tak \n",
      "< (468)  mogli dojść tych trosk zarodka,\n",
      "> (468)  Gdybyśmy mogli dojść tych trosk zarodka,\n",
      "< (474)  BENWOLIO\n",
      "> (474)  \n",
      "< (482)  Obyś w tej sprawie, co nam serce rani,\n",
      "< (483)  Mógł być szczęśliwszym od nas! Pójdźmy, \n",
      "> (482)  w tej sprawie, co nam serce rani,\n",
      "> (483)  Mógł być szczęśliwszym od nas! Pójdźmy, pani.\n",
      "< (495)                          Jeszcze–ż nie południe?\n",
      "> (495)                          Jeszcze–ż południe?\n",
      "< (498)  \n",
      "> (498)  BENWOLIO\n",
      "< (507)  Tak spiesznie w tamtą zboczyli ulicę?\n",
      "> (507)  Tak spiesznie tamtą zboczyli ulicę?\n",
      "< (512)  Tak jest. Lecz cóż chwile twoje dłuży?\n",
      "> (512)  Tak jest. Lecz cóż tak chwile twoje dłuży?\n",
      "< (532)                          Jak to? brak miłości?\n",
      "> (532)                          to? brak miłości?\n",
      "< (537)  Brak jej tam, skąd bym pragnął wzajemności.\n",
      "> (537)  jej tam, skąd bym pragnął wzajemności.\n",
      "< (542)  Niestety! Czemuż, zdając się niebianką,\n",
      "> (542)  Czemuż, zdając się niebianką,\n",
      "< (548)  Czemuż, zasłoną na skroni,\n",
      "> (548)  Niestety! Czemuż, z zasłoną na skroni,\n",
      "< (555)  Coś narodzone z niczego! \n",
      "< (556)  Poważna pustoto!\n",
      "> (555)  Coś narodzone z niczego! Pieszczoto\n",
      "> (556)  Odpychająca! Poważna pustoto!\n",
      "< (561)  Czy nie śmiejesz?\n",
      "> (561)  Czy się nie śmiejesz?\n",
      "< (576)                          uciskiem,\n",
      "> (576)                          Nad uciskiem,\n",
      "< (587)  Nie ulgą, ale nowym jest kamieniem\n",
      "> (587)  ulgą, ale nowym jest kamieniem\n",
      "< (589)  To dym, co z parą westchnień się unosi;\n",
      "> (589)  To dym, co parą westchnień się unosi;\n",
      "< (601)                          Zaczekaj! byś mi sprawił,\n",
      "< (602)  Gdybyś mą przyjaźń z kwitkiem tak zostawił.\n",
      "> (601)                          Zaczekaj! krzywdę byś mi sprawił,\n",
      "> (602)  Gdybyś mą przyjaźń kwitkiem tak zostawił.\n",
      "< (618)                          mię dręczyć.\n",
      "> (618)                          Przestań mię dręczyć.\n",
      "< (624)                          \n",
      "> (624)                          jęczyć,\n",
      "< (626)  to kochasz? Powiedz.\n",
      "> (626)  Kogóż to kochasz? Powiedz.\n",
      "< (631)                          choremu\n",
      "> (631)                          Każ choremu\n",
      "< (649)  \n",
      "> (649)  BENWOLIO\n",
      "< (651)                          W piękny cel trafić najłatwiej.\n",
      "> (651)                          W piękny cel najłatwiej.\n",
      "< (664)  Że kiedy umrze, do grobu z nią zstąpi\n",
      "> (664)  Że kiedy umrze, grobu z nią zstąpi\n",
      "< (670)  Wiecznie–ż chce sama zostać swym bogactwem?\n",
      "> (670)  Wiecznie–ż chce sama zostać z swym bogactwem?\n",
      "< (675)  jest; i skąpstwo to jest marnotrawstwem,\n",
      "< (676)  Bo piękność, którą własna srogość \n",
      "> (675)  Tak jest; i to jest marnotrawstwem,\n",
      "> (676)  Bo piękność, którą własna srogość strawia,\n",
      "< (680)  Przysięgła nigdy nie kochać i dzięki\n",
      "> (680)  Przysięgła nigdy nie i dzięki\n",
      "< (691)  Doradź–że także, jakim bym sposobem\n",
      "> (691)  także, jakim bym sposobem\n"
     ]
    }
   ],
   "source": [
    "lines1 = get_file_lines(\"romeo-and-juliet2.txt\")\n",
    "lines2 = get_file_lines(\"romeo-and-juliet3.txt\")\n",
    "\n",
    "diff(lines1, lines2)"
   ]
  }
 ],
 "metadata": {
  "kernelspec": {
   "display_name": "Python 3",
   "language": "python",
   "name": "python3"
  },
  "language_info": {
   "codemirror_mode": {
    "name": "ipython",
    "version": 3
   },
   "file_extension": ".py",
   "mimetype": "text/x-python",
   "name": "python",
   "nbconvert_exporter": "python",
   "pygments_lexer": "ipython3",
   "version": "3.7.6"
  }
 },
 "nbformat": 4,
 "nbformat_minor": 4
}
